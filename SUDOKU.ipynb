{
  "nbformat": 4,
  "nbformat_minor": 0,
  "metadata": {
    "colab": {
      "provenance": [],
      "authorship_tag": "ABX9TyPSrEt9gVj3fIXl0rT9hq2Y",
      "include_colab_link": true
    },
    "kernelspec": {
      "name": "python3",
      "display_name": "Python 3"
    },
    "language_info": {
      "name": "python"
    }
  },
  "cells": [
    {
      "cell_type": "markdown",
      "metadata": {
        "id": "view-in-github",
        "colab_type": "text"
      },
      "source": [
        "<a href=\"https://colab.research.google.com/github/mateusmouta/SUDOKU/blob/main/SUDOKU.ipynb\" target=\"_parent\"><img src=\"https://colab.research.google.com/assets/colab-badge.svg\" alt=\"Open In Colab\"/></a>"
      ]
    },
    {
      "cell_type": "code",
      "source": [
        "def print_board(board, editable):\n",
        "    print(\"\\n  A B C   D E F   G H I\")\n",
        "    for i in range(9):\n",
        "        if i % 3 == 0 and i != 0:\n",
        "            print(\"  -------+-------+-------\")\n",
        "        print(chr(65 + i) + \" \", end=\"\")\n",
        "        for j in range(9):\n",
        "            if j % 3 == 0 and j != 0:\n",
        "                print(\"| \", end=\"\")\n",
        "            cell = board[i][j]\n",
        "            if not editable[i][j]:\n",
        "                print(f\"\\033[94m{cell}\\033[0m\", end=\" \")  # Azul para números fixos\n",
        "            else:\n",
        "                print(f\"\\033[92m{cell}\\033[0m\" if cell != 0 else \".\", end=\" \")  # Verde para editáveis\n",
        "        print()\n",
        "\n",
        "def is_valid(board, row, col, num):\n",
        "    # Verifica linha\n",
        "    if num in board[row]:\n",
        "        return False\n",
        "\n",
        "    # Verifica coluna\n",
        "    if num in [board[i][col] for i in range(9)]:\n",
        "        return False\n",
        "\n",
        "    # Verifica subgrid 3x3\n",
        "    start_row, start_col = 3 * (row // 3), 3 * (col // 3)\n",
        "    for i in range(3):\n",
        "        for j in range(3):\n",
        "            if board[start_row + i][start_col + j] == num:\n",
        "                return False\n",
        "    return True\n",
        "\n",
        "board = [\n",
        "    [5, 3, 0, 0, 7, 0, 0, 0, 0],\n",
        "    [6, 0, 0, 1, 9, 5, 0, 0, 0],\n",
        "    [0, 9, 8, 0, 0, 0, 0, 6, 0],\n",
        "    [8, 0, 0, 0, 6, 0, 0, 0, 3],\n",
        "    [4, 0, 0, 8, 0, 3, 0, 0, 1],\n",
        "    [7, 0, 0, 0, 2, 0, 0, 0, 6],\n",
        "    [0, 6, 0, 0, 0, 0, 2, 8, 0],\n",
        "    [0, 0, 0, 4, 1, 9, 0, 0, 5],\n",
        "    [0, 0, 0, 0, 8, 0, 0, 7, 9]\n",
        "]\n",
        "\n",
        "# Matriz de células editáveis (True = pode editar)\n",
        "editable = [[cell == 0 for cell in row] for row in board]\n",
        "\n",
        "print(\"Sudoku Profissional\")\n",
        "print(\"• Números azuis: fixos | Números verdes/pontos: editáveis\")\n",
        "print_board(board, editable)\n",
        "\n",
        "while True:\n",
        "    try:\n",
        "        # Entrada da linha\n",
        "        row_input = input(\"\\nLinha (A-I) ou 'S' para sair: \").upper()\n",
        "        if row_input == 'S':\n",
        "            print(\"Jogo encerrado!\")\n",
        "            break\n",
        "\n",
        "        if len(row_input) != 1 or not ('A' <= row_input <= 'I'):\n",
        "            print(\"Erro: Linha inválida!\")\n",
        "            continue\n",
        "\n",
        "        row = ord(row_input) - ord('A')\n",
        "\n",
        "        # Entrada da coluna\n",
        "        col_input = input(\"Coluna (a-i): \").lower()\n",
        "        if len(col_input) != 1 or not ('a' <= col_input <= 'i'):\n",
        "            print(\"Erro: Coluna inválida!\")\n",
        "            continue\n",
        "\n",
        "        col = ord(col_input) - ord('a')\n",
        "\n",
        "        # Verifica se célula é editável\n",
        "        if not editable[row][col]:\n",
        "            print(\"\\033[91mErro: Célula fixa! Não pode ser alterada.\\033[0m\")\n",
        "            continue\n",
        "\n",
        "        # Entrada do número\n",
        "        num = input(\"Número (1-9 ou 0 para apagar): \")\n",
        "        if not num.isdigit() or not (0 <= int(num) <= 9):\n",
        "            print(\"Erro: Número inválido!\")\n",
        "            continue\n",
        "\n",
        "        num = int(num)\n",
        "\n",
        "        # Validação das regras do Sudoku\n",
        "        if num != 0:\n",
        "            if not is_valid(board, row, col, num):\n",
        "                print(\"\\033[91mErro: Número repetido na linha, coluna ou subgrade!\\033[0m\")\n",
        "                continue\n",
        "\n",
        "        # Atualiza o tabuleiro\n",
        "        board[row][col] = num\n",
        "        print_board(board, editable)\n",
        "\n",
        "        # Verifica vitória\n",
        "        if all(all(cell != 0 for cell in row) for row in board):\n",
        "            print(\"\\033[92m\\nParabéns! Você resolveu o Sudoku!\\033[0m\")\n",
        "            break\n",
        "\n",
        "    except KeyboardInterrupt:\n",
        "        print(\"\\nJogo encerrado pelo usuário.\")\n",
        "        break"
      ],
      "metadata": {
        "colab": {
          "base_uri": "https://localhost:8080/"
        },
        "id": "r0gl-rz2hHNR",
        "outputId": "bf882102-79cb-488f-9a8b-72689779cb08"
      },
      "execution_count": null,
      "outputs": [
        {
          "output_type": "stream",
          "name": "stdout",
          "text": [
            "Sudoku Profissional\n",
            "• Números azuis: fixos | Números verdes/pontos: editáveis\n",
            "\n",
            "  A B C   D E F   G H I\n",
            "A \u001b[94m5\u001b[0m \u001b[94m3\u001b[0m . | . \u001b[94m7\u001b[0m . | . . . \n",
            "B \u001b[94m6\u001b[0m . . | \u001b[94m1\u001b[0m \u001b[94m9\u001b[0m \u001b[94m5\u001b[0m | . . . \n",
            "C . \u001b[94m9\u001b[0m \u001b[94m8\u001b[0m | . . . | . \u001b[94m6\u001b[0m . \n",
            "  -------+-------+-------\n",
            "D \u001b[94m8\u001b[0m . . | . \u001b[94m6\u001b[0m . | . . \u001b[94m3\u001b[0m \n",
            "E \u001b[94m4\u001b[0m . . | \u001b[94m8\u001b[0m . \u001b[94m3\u001b[0m | . . \u001b[94m1\u001b[0m \n",
            "F \u001b[94m7\u001b[0m . . | . \u001b[94m2\u001b[0m . | . . \u001b[94m6\u001b[0m \n",
            "  -------+-------+-------\n",
            "G . \u001b[94m6\u001b[0m . | . . . | \u001b[94m2\u001b[0m \u001b[94m8\u001b[0m . \n",
            "H . . . | \u001b[94m4\u001b[0m \u001b[94m1\u001b[0m \u001b[94m9\u001b[0m | . . \u001b[94m5\u001b[0m \n",
            "I . . . | . \u001b[94m8\u001b[0m . | . \u001b[94m7\u001b[0m \u001b[94m9\u001b[0m \n",
            "\n",
            "Linha (A-I) ou 'S' para sair: j\n",
            "Erro: Linha inválida!\n",
            "\n",
            "Jogo encerrado pelo usuário.\n"
          ]
        }
      ]
    },
    {
      "cell_type": "code",
      "source": [],
      "metadata": {
        "id": "O0MPCJDBl5HA"
      },
      "execution_count": null,
      "outputs": []
    }
  ]
}